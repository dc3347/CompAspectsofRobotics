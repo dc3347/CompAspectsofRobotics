{
  "nbformat": 4,
  "nbformat_minor": 0,
  "metadata": {
    "colab": {
      "name": "Robotics HW 3",
      "provenance": [],
      "collapsed_sections": [],
      "authorship_tag": "ABX9TyM8RJUGi5UPEhxU32ru55Ev",
      "include_colab_link": true
    },
    "kernelspec": {
      "name": "python3",
      "display_name": "Python 3"
    }
  },
  "cells": [
    {
      "cell_type": "markdown",
      "metadata": {
        "id": "view-in-github",
        "colab_type": "text"
      },
      "source": [
        "<a href=\"https://colab.research.google.com/github/dc3347/CompAspectsofRobotics/blob/main/Robotics_HW_3.ipynb\" target=\"_parent\"><img src=\"https://colab.research.google.com/assets/colab-badge.svg\" alt=\"Open In Colab\"/></a>"
      ]
    },
    {
      "cell_type": "code",
      "metadata": {
        "id": "8sfJnSu-nE2V"
      },
      "source": [
        "\"\"\"\n",
        "COMS 4733 Spring 2021 Homework 3\n",
        "Scaffolding code for building a PRM for RR arm motion planning\n",
        "Portions gratefully taken from the PythonRobotics project\n",
        "https://pythonrobotics.readthedocs.io/en/latest/\n",
        "\"\"\"\n",
        "\n",
        "import random\n",
        "import math\n",
        "import numpy as np\n",
        "import numpy.linalg as nla\n",
        "import matplotlib.pyplot as plt\n",
        "from sklearn.neighbors import NearestNeighbors"
      ],
      "execution_count": null,
      "outputs": []
    },
    {
      "cell_type": "code",
      "metadata": {
        "id": "8txAHLMV8Bz4"
      },
      "source": [
        "\"\"\"\n",
        "Robot and PRM parameters\n",
        "\"\"\"\n",
        "# Simulation environment\n",
        "OBSTACLES = [[1.75, 0.75, 0.6], [-.5, 1.5, 0.5], [0, -1, 0.7]] # circular obstacles [x, y, r]\n",
        "#OBSTACLES = [[1.75, 0.75, 0.6], [-.55, 1.5, 0.5], [0, -1, 0.7], [-2, -0.5, 0.6]]\n",
        "LINK_LENGTH = [1, 1] # lengths of arm links\n",
        "START = (1.0, 0.0) # start joint configuration\n",
        "# START = (-3.0, 1.0)\n",
        "GOAL = (-3.0, -1.0) # goal joint configuration\n",
        "# GOAL = (-0.5, 0.5)\n",
        "\n",
        "# PRM parameters\n",
        "N_SAMPLE = 100  # number of sample_points\n",
        "N_KNN = 5  # number of neighbors to attempt to connect\n",
        "MAX_EDGE_LEN = 2 #0.1  # [m] Maximum edge length\n"
      ],
      "execution_count": null,
      "outputs": []
    },
    {
      "cell_type": "code",
      "metadata": {
        "id": "MEAg7bei8CwF"
      },
      "source": [
        "\"\"\"\n",
        "Classes for an n-link arm and a graph node for search\n",
        "\"\"\"\n",
        "class NLinkArm(object):\n",
        "    \"\"\"\n",
        "    Class for controlling and plotting a planar arm with an arbitrary number of links.\n",
        "    \"\"\"\n",
        "\n",
        "    def __init__(self, link_lengths, joint_angles):\n",
        "        self.n_links = len(link_lengths)\n",
        "        if self.n_links != len(joint_angles):\n",
        "            raise ValueError()\n",
        "\n",
        "        self.link_lengths = np.array(link_lengths)\n",
        "        self.joint_angles = np.array(joint_angles)\n",
        "        self.points = [[0, 0] for _ in range(self.n_links + 1)]\n",
        "\n",
        "        self.lim = sum(link_lengths)\n",
        "        self.update_points()\n",
        "\n",
        "    def update_joints(self, joint_angles):\n",
        "        self.joint_angles = np.array(joint_angles)\n",
        "        self.update_points()\n",
        "\n",
        "    def update_points(self):\n",
        "        for i in range(1, self.n_links + 1):\n",
        "            self.points[i][0] = self.points[i - 1][0] + \\\n",
        "                self.link_lengths[i - 1] * \\\n",
        "                np.cos(np.sum(self.joint_angles[:i]))\n",
        "            self.points[i][1] = self.points[i - 1][1] + \\\n",
        "                self.link_lengths[i - 1] * \\\n",
        "                np.sin(np.sum(self.joint_angles[:i]))\n",
        "\n",
        "        self.end_effector = np.array(self.points[self.n_links]).T\n",
        "\n",
        "class Node:\n",
        "    \"\"\"\n",
        "    Node class for dijkstra search\n",
        "    \"\"\"\n",
        "\n",
        "    def __init__(self, x, y, cost, parent_index):\n",
        "        self.x = x\n",
        "        self.y = y\n",
        "        self.cost = cost\n",
        "        self.parent_index = parent_index\n",
        "\n",
        "    def __str__(self):\n",
        "        return str(self.x) + \",\" + str(self.y) + \",\" +\\\n",
        "               str(self.cost) + \",\" + str(self.parent_index)\n"
      ],
      "execution_count": null,
      "outputs": []
    },
    {
      "cell_type": "code",
      "metadata": {
        "id": "X_BVIghp8MVh",
        "colab": {
          "base_uri": "https://localhost:8080/"
        },
        "outputId": "377f1636-042b-47f5-84e4-00e351a275af"
      },
      "source": [
        "\"\"\"\n",
        "Potentially useful utility functions\n",
        "\"\"\"\n",
        "def detect_collision(arm, obstacles, config):\n",
        "    \"\"\"\n",
        "    :param arm: NLinkArm object\n",
        "    :param obstacles: List of circular obstacles\n",
        "    :param config: Configuration (joint angles) of the arm\n",
        "    :return: True if any part of arm collides with obstacles, False otherwise\n",
        "    \"\"\"\n",
        "    arm.update_joints(config)\n",
        "    points = arm.points\n",
        "    for k in range(len(points) - 1):\n",
        "        for circle in obstacles:\n",
        "            a_vec = np.array(points[k])\n",
        "            b_vec = np.array(points[k+1])\n",
        "            c_vec = np.array([circle[0], circle[1]])\n",
        "            radius = circle[2]\n",
        "\n",
        "            line_vec = b_vec - a_vec\n",
        "            line_mag = np.linalg.norm(line_vec)\n",
        "            circle_vec = c_vec - a_vec\n",
        "            proj = circle_vec.dot(line_vec / line_mag)\n",
        "\n",
        "            if proj <= 0:\n",
        "                closest_point = a_vec\n",
        "            elif proj >= line_mag:\n",
        "                closest_point = b_vec\n",
        "            else:\n",
        "                closest_point = a_vec + line_vec * proj / line_mag\n",
        "\n",
        "            if np.linalg.norm(closest_point - c_vec) <= radius:\n",
        "                return True\n",
        "\n",
        "    return False\n",
        "\n",
        "\n",
        "def toroid_to_euclidean_points(x, y):\n",
        "    \"\"\"\n",
        "    :param x, y: Two 2D vectors in toroidal space\n",
        "    :return: x, y', where x is identical to the first input and y' is Euclidean equivalent of y closest to x\n",
        "    \"\"\"\n",
        "    A = np.meshgrid([-1,0,1], [-1,0,1])\n",
        "    y_set = y + 2*np.pi*np.array(A).T.reshape(-1,2)\n",
        "    ind = np.argmin(nla.norm(y_set-x, axis=1))\n",
        "    return x, y_set[ind]\n",
        "\n",
        "\n",
        "def torus_dist(x,y):\n",
        "    \"\"\"\n",
        "    Distance metric on toroidal space\n",
        "    \"\"\"\n",
        "    x, yp = toroid_to_euclidean_points(x,y)\n",
        "    return nla.norm(yp-x)\n",
        "\n",
        "\n",
        "#test\n",
        "config= toroid_to_euclidean_points((0,-math.pi),(0,math.pi-0.1))\n",
        "#toroid_to_euclidean_points((0,0),(1,1))\n",
        "arm = NLinkArm(LINK_LENGTH, [0,0])\n",
        "detect_collision(arm, OBSTACLES, ((0,-1),(0,1)))\n",
        "#toroid_to_euclidean_points(0,-math.pi)\n",
        "#toroid_to_euclidean_points(0,math.pi-0.1)\n"
      ],
      "execution_count": null,
      "outputs": [
        {
          "output_type": "execute_result",
          "data": {
            "text/plain": [
              "True"
            ]
          },
          "metadata": {
            "tags": []
          },
          "execution_count": 949
        }
      ]
    },
    {
      "cell_type": "code",
      "metadata": {
        "id": "_WepSLNC8SUg"
      },
      "source": [
        "\"\"\"\n",
        "PRM construction and search\n",
        "\"\"\"\n",
        "def plan_route(arm, obstacles, sx, sy, gx, gy):\n",
        "    sample_x, sample_y = sample_points(arm, obstacles, sx, sy, gx, gy)\n",
        "    roadmap = construct_prm(arm, obstacles, sample_x, sample_y)\n",
        "    rx, ry = dijkstra(sx, sy, gx, gy, roadmap, sample_x, sample_y)\n",
        "    return roadmap, sample_x, sample_y, list(zip(rx,ry))\n",
        "\n",
        "\n",
        "# WRITE THIS FUNCTION, 4.1\n",
        "def sample_points(arm, obstacles, sx, sy, gx, gy):\n",
        "    \"\"\"\n",
        "    :param arm, obstacles: NLinkArm object, list of circular obstacles\n",
        "    :param sx, sy: Start coordinates\n",
        "    :param gx, gy: Goal coordinates\n",
        "    :return: Two lists of sample x coordinates and y coordinates\n",
        "    \"\"\"\n",
        "    sample_x = []\n",
        "    sample_y = [] \n",
        "\n",
        "    x = np.random.uniform(-math.pi, math.pi, N_SAMPLE)\n",
        "    y = np.random.uniform(-math.pi, math.pi, N_SAMPLE)\n",
        "\n",
        "    # check to see if the point is on or inside an obstacle by seeing if dist to center <=radius\n",
        "    intersect=False\n",
        "    for i in range(0, len(x)):\n",
        "      for elem in obstacles:\n",
        "        radius = elem[2]\n",
        "        dist = abs(torus_dist((x[i],elem[0]),(y[i],elem[1]))) #math.sqrt((x[i]-elem[0])**2+(y[i]-elem[1])**2)\n",
        "        if dist<=radius:\n",
        "          intersect=True\n",
        "      if intersect==False:\n",
        "        sample_x.append(x[i])\n",
        "        sample_y.append(y[i])\n",
        "      intersect = False\n",
        "    \n",
        "    \n",
        "    #appends start and goal positions to second-to-last and last elements, respectively\n",
        "    sample_x.append(sx)\n",
        "    sample_x.append(gx)\n",
        "    sample_y.append(sy) \n",
        "    sample_y.append(gy)\n",
        "\n",
        "    return sample_x, sample_y\n",
        "\n",
        "\n",
        "# WRITE THIS FUNCTION\n",
        "def construct_prm(arm, obstacles, sample_x, sample_y):\n",
        "    \"\"\"\n",
        "    :param arm, obstacles: NLinkArm object, list of circular obstacles\n",
        "    :param sample_x, sample_y: n-lists of sample x and y coordinates\n",
        "    :return: A roadmap n-list of lists. The ith list indicates all sample indices that are neighbors of the ith sample.\n",
        "    \"\"\"\n",
        "    roadmap = [[i] for i in range(len(sample_x))] # list of lists\n",
        "    samples = np.array([[sample_x[i], sample_y[i]] for i in range(0,len(sample_x))])\n",
        "\n",
        "    n = NearestNeighbors(n_neighbors=N_KNN, radius=MAX_EDGE_LEN, metric=torus_dist).fit(samples)\n",
        "    distances, indices = n.kneighbors(samples)\n",
        "\n",
        "    # do collision check when incrementally creating edges\n",
        "    for i in range(0, len(indices)):\n",
        "      for j in range(0, len(indices[i])):\n",
        "        c1 = samples[indices[i,0]]\n",
        "        c2 = samples[indices[i,j]]\n",
        "\n",
        "        # incremental collision detection, start at q1, move toward q2 in increments equal to step size, checking for collisions at each point\n",
        "        config1,config2 = toroid_to_euclidean_points(c1,c2)\n",
        "      \n",
        "        # assuming step size is the same as the length btw the point and its neighbor\n",
        "        \n",
        "        if detect_collision(arm, obstacles, (config1, config2)) == False:\n",
        "            roadmap[i].append(indices[i,j])\n",
        "        '''\n",
        "\n",
        "        collision = False\n",
        "        step_size_x = torus_dist(config1[0], config2[0])/10\n",
        "        step_size_y = torus_dist(config1[1], config2[1])/10\n",
        "        \n",
        "        while config1[0]!=config2[0] or config1[1]!=config2[1]:\n",
        "          con = config1\n",
        "          config_temp = (config1[0]+step_size_x, config1[1]+step_size_y)\n",
        "  \n",
        "          if detect_collision(arm, obstacles, (con, config_temp)) == True: # intersection with obstacle\n",
        "            collision=True\n",
        "            break\n",
        "          config1 = config_temp\n",
        "\n",
        "        if collision == False:\n",
        "          roadmap[i].append(indices[i,j])\n",
        "        '''\n",
        "    print(roadmap)\n",
        "    return roadmap\n"
      ],
      "execution_count": null,
      "outputs": []
    },
    {
      "cell_type": "code",
      "metadata": {
        "id": "UdCPYI9K8Wwk"
      },
      "source": [
        "\"\"\"\n",
        "Dijkstra search for a path given start, goal, roadmap, sample points\n",
        "\"\"\"\n",
        "def dijkstra(sx, sy, gx, gy, road_map, sample_x, sample_y):\n",
        "\n",
        "    start_node = Node(sx, sy, 0.0, -1)\n",
        "    goal_node = Node(gx, gy, 0.0, -1)\n",
        "\n",
        "    open_set, closed_set = dict(), dict()\n",
        "    open_set[len(road_map) - 2] = start_node\n",
        "\n",
        "    while True:\n",
        "        if not open_set:\n",
        "            return [], []\n",
        "\n",
        "        c_id = min(open_set, key=lambda o: open_set[o].cost)\n",
        "        current = open_set[c_id]\n",
        "\n",
        "        if c_id == (len(road_map) - 1):\n",
        "            goal_node.parent_index = current.parent_index\n",
        "            goal_node.cost = current.cost\n",
        "            break\n",
        "\n",
        "        # Remove the item from the open set\n",
        "        del open_set[c_id]\n",
        "        # Add it to the closed set\n",
        "        closed_set[c_id] = current\n",
        "\n",
        "        # expand search grid based on motion model\n",
        "        for i in range(len(road_map[c_id])):\n",
        "            n_id = road_map[c_id][i]\n",
        "            dx = sample_x[n_id] - current.x\n",
        "            dy = sample_y[n_id] - current.y\n",
        "            d = math.hypot(dx, dy)\n",
        "            node = Node(sample_x[n_id], sample_y[n_id],\n",
        "                        current.cost + d, c_id)\n",
        "\n",
        "            if n_id in closed_set:\n",
        "                continue\n",
        "            # Otherwise if it is already in the open set\n",
        "            if n_id in open_set:\n",
        "                if open_set[n_id].cost > node.cost:\n",
        "                    open_set[n_id].cost = node.cost\n",
        "                    open_set[n_id].parent_index = c_id\n",
        "            else:\n",
        "                open_set[n_id] = node\n",
        "\n",
        "    # generate final course\n",
        "    rx, ry = [goal_node.x], [goal_node.y]\n",
        "    parent_index = goal_node.parent_index\n",
        "    while parent_index != -1:\n",
        "        n = closed_set[parent_index]\n",
        "        rx.append(n.x)\n",
        "        ry.append(n.y)\n",
        "        parent_index = n.parent_index\n",
        "\n",
        "    return reversed(rx), reversed(ry)\n"
      ],
      "execution_count": null,
      "outputs": []
    },
    {
      "cell_type": "code",
      "metadata": {
        "id": "BzAP7bGQ8a0D"
      },
      "source": [
        "\"\"\"\n",
        "Plotting and visualization functions\n",
        "\"\"\"\n",
        "\n",
        "def get_occupancy_grid(arm, obstacles, M):\n",
        "    grid = [[0 for _ in range(M)] for _ in range(M)]\n",
        "    theta_list = [2 * i * np.pi / M for i in range(-M // 2, M // 2 + 1)]\n",
        "    for i in range(M):\n",
        "        for j in range(M):\n",
        "            grid[i][j] = int(detect_collision(arm, obstacles, [theta_list[i], theta_list[j]]))\n",
        "    return np.array(grid)\n",
        "\n",
        "def plot_road_map(ax, road_map, sample_x, sample_y):\n",
        "    for i, _ in enumerate(road_map):\n",
        "        for ii in range(len(road_map[i])):\n",
        "            ind = road_map[i][ii]\n",
        "            x, yp = toroid_to_euclidean_points([sample_x[i], sample_y[i]], [sample_x[ind], sample_y[ind]])\n",
        "            y, xp = toroid_to_euclidean_points([sample_x[ind], sample_y[ind]], [sample_x[i], sample_y[i]])\n",
        "            ax.plot([x[0], yp[0]], [x[1], yp[1]], \"-k\")\n",
        "            ax.plot([xp[0], y[0]], [xp[1], y[1]], \"-k\")\n",
        "\n",
        "def plot_arm(plt, ax, arm, obstacles):\n",
        "    for obstacle in obstacles:\n",
        "        circle = plt.Circle((obstacle[0], obstacle[1]), radius=0.5 * obstacle[2], fc='k')\n",
        "        plt.gca().add_patch(circle)\n",
        "\n",
        "    for i in range(arm.n_links + 1):\n",
        "        if i is not arm.n_links:\n",
        "            ax.plot([arm.points[i][0], arm.points[i + 1][0]], [arm.points[i][1], arm.points[i + 1][1]], 'r-')\n",
        "        ax.plot(arm.points[i][0], arm.points[i][1], 'k.')\n",
        "\n",
        "def visualize_spaces(arm, obstacles):\n",
        "    plt.subplots(1, 2)\n",
        "\n",
        "    plt.subplot(1, 2, 1)\n",
        "    grid = get_occupancy_grid(arm, obstacles, 200)\n",
        "    plt.imshow(np.flip(grid.T, axis=0))\n",
        "    plt.xticks([0,50,100,150,200], [\"-\\u03C0\", \"-\\u03C0/2\", \"0\", \"\\u03C0/2\", \"\\u03C0\"])\n",
        "    plt.yticks([0,50,100,150,200], [\"\\u03C0\", \"\\u03C0/2\", \"0\", \"-\\u03C0/2\", \"-\\u03C0\"])\n",
        "    plt.title(\"Configuration space\")\n",
        "    plt.xlabel('joint 1')\n",
        "    plt.ylabel('joint 2')\n",
        "\n",
        "    ax = plt.subplot(1, 2, 2)\n",
        "    arm.update_joints(START)\n",
        "    plot_arm(plt, ax, arm, obstacles)\n",
        "    plt.title(\"Workspace\")\n",
        "    plt.xlabel('x')\n",
        "    plt.ylabel('y')\n",
        "    plt.axis('scaled')\n",
        "    plt.xlim(-3.0, 3.0)\n",
        "    plt.ylim(-3.0, 3.0)\n",
        "    plt.show()\n",
        "\n",
        "def animate(arm, obstacles, road_map, sample_x, sample_y, route):\n",
        "    ax1 = plt.subplot(1, 2, 1)\n",
        "    plot_road_map(ax1, road_map, sample_x, sample_y)\n",
        "    plt.plot(sample_x, sample_y, \".b\")\n",
        "    plt.plot(route[0][0], route[0][1], \"Xc\")\n",
        "    plt.plot(route[-1][0], route[-1][1], \"Xc\")\n",
        "    plt.title(\"Configuration space\")\n",
        "    plt.xlabel('joint 1')\n",
        "    plt.ylabel('joint 2')\n",
        "    plt.axis('scaled')\n",
        "    plt.xlim(-3.2, 3.2)\n",
        "    plt.ylim(-3.2, 3.2)\n",
        "\n",
        "    ax2 = plt.subplot(1, 2, 2)\n",
        "    arm.update_joints(START)\n",
        "    plot_arm(plt, ax2, arm, obstacles)\n",
        "    plt.title(\"Workspace\")\n",
        "    plt.xlabel('x')\n",
        "    plt.ylabel('y')\n",
        "    plt.axis('scaled')\n",
        "    plt.xlim(-3.0, 3.0)\n",
        "    plt.ylim(-3.0, 3.0)\n",
        "    plt.pause(1)\n",
        "\n",
        "    for i, node in enumerate(route):\n",
        "        arm.update_joints([node[0], node[1]])\n",
        "        ax1.plot(node[0], node[1], \"xr\")\n",
        "        ax2.lines = []\n",
        "        plot_arm(plt, ax2, arm, obstacles)\n",
        "        # Uncomment here to save the sequence of frames\n",
        "        # plt.savefig('frame{:04d}.png'.format(i))\n",
        "        plt.pause(0.3)\n",
        "\n",
        "    plt.show()"
      ],
      "execution_count": null,
      "outputs": []
    },
    {
      "cell_type": "code",
      "metadata": {
        "id": "a8w1WySE8fNU",
        "colab": {
          "base_uri": "https://localhost:8080/",
          "height": 1000
        },
        "outputId": "44d0bfb7-58ed-4bbd-9037-de30c53b02f7"
      },
      "source": [
        "\"\"\"\n",
        "Main function\n",
        "\"\"\"\n",
        "def main():\n",
        "    arm = NLinkArm(LINK_LENGTH, [0,0])\n",
        "    # visualize_spaces(arm, OBSTACLES)\n",
        "    roadmap, sample_x, sample_y, route = plan_route(arm, OBSTACLES, START[0], START[1], GOAL[0], GOAL[1])\n",
        "    if not route:\n",
        "        print(\"No path found!\")\n",
        "    animate(arm, OBSTACLES, roadmap, sample_x, sample_y, route)\n",
        "\n",
        "if __name__ == '__main__':\n",
        "    main()"
      ],
      "execution_count": null,
      "outputs": [
        {
          "output_type": "stream",
          "text": [
            "[[0, 0, 18, 46, 55, 20], [1, 1, 24, 68, 30, 40], [2], [3, 3, 100, 4], [4, 4, 6, 3], [5, 94, 21], [6], [7, 7, 73, 44, 83, 22], [8, 8, 72, 43, 62, 71], [9], [10, 10, 93, 78, 98], [11], [12, 12, 63, 79, 60, 57], [13, 13, 84, 32, 81, 28], [14, 14, 97, 54, 91], [15, 15, 25, 64, 49, 98], [16], [17], [18, 18, 50], [19, 19, 68, 24, 40, 1], [20, 20, 44, 55, 46, 7], [21, 21, 94, 59, 1, 61], [22, 22, 73], [23, 23, 95, 77, 65], [24, 24, 93], [25, 25, 64, 15, 29, 2], [26, 26, 28, 32, 84], [27, 95, 65], [28, 28, 32, 84, 13, 26], [29], [30, 30, 40, 61, 86, 1], [31, 31, 51, 42, 63, 69], [32, 32, 28, 84, 13, 81], [33, 33, 49, 41, 15, 27], [34], [35, 35, 67, 95, 65, 66], [36, 36, 80, 41, 0, 18], [37], [38], [39, 58], [40, 40, 30, 86, 61, 68], [41, 41, 49], [42, 31], [43], [44, 44, 55, 20, 46, 7], [45, 45, 101, 70, 59, 94], [46, 46, 0, 18, 55, 44], [47, 47, 73, 101, 45, 70], [48], [49, 49, 25, 15], [50, 50, 89, 66], [51, 51, 31, 63], [52], [53, 0, 54], [54, 97], [55, 55, 44, 20, 46, 7], [56], [57, 58], [58, 58, 5, 57, 39, 74], [59, 59, 26, 94, 21, 101], [60], [61, 61, 30, 40, 86, 1], [62, 62, 72, 8, 43], [63, 63, 12, 31, 51, 60], [64], [65, 65, 35, 67, 71], [66], [67, 67, 35, 66, 95, 31], [68, 68, 19, 24, 40, 1], [69, 77], [70, 70, 45, 101], [71], [72, 72, 62, 8, 43, 85], [73, 73, 7, 47], [74, 58, 45], [75], [76, 82], [77, 77, 69, 86], [78], [79, 79, 88, 12, 60, 63], [80, 80, 41, 18], [81, 81, 13, 84, 11, 32], [82, 82, 96, 54, 76, 87], [83, 7], [84, 84, 13, 32, 28, 81], [85, 85, 27, 62, 65], [86, 40, 30, 61], [87], [88, 88, 79, 12, 60], [89], [90], [91, 14, 97, 54], [92], [93, 93, 10, 98], [94, 94, 21, 59, 5, 1], [95], [96, 96, 82, 54], [97, 97, 14, 54, 91], [98, 98, 17, 93, 10, 15], [99], [100, 100, 3, 20], [101, 101, 45, 70, 59, 94]]\n"
          ],
          "name": "stdout"
        },
        {
          "output_type": "display_data",
          "data": {
            "image/png": "[encoded data removed]",
            "text/plain": [
              "<Figure size 432x288 with 2 Axes>"
            ]
          },
          "metadata": {
            "tags": [],
            "needs_background": "light"
          }
        },
        {
          "output_type": "display_data",
          "data": {
            "image/png": "[encoded data removed]",
            "text/plain": [
              "<Figure size 432x288 with 1 Axes>"
            ]
          },
          "metadata": {
            "tags": [],
            "needs_background": "light"
          }
        },
        {
          "output_type": "display_data",
          "data": {
            "image/png": "[encoded data removed]",
            "text/plain": [
              "<Figure size 432x288 with 1 Axes>"
            ]
          },
          "metadata": {
            "tags": [],
            "needs_background": "light"
          }
        },
        {
          "output_type": "display_data",
          "data": {
            "image/png": "[encoded data removed]",
            "text/plain": [
              "<Figure size 432x288 with 1 Axes>"
            ]
          },
          "metadata": {
            "tags": [],
            "needs_background": "light"
          }
        },
        {
          "output_type": "display_data",
          "data": {
            "image/png": "[encoded data removed]",
            "text/plain": [
              "<Figure size 432x288 with 1 Axes>"
            ]
          },
          "metadata": {
            "tags": [],
            "needs_background": "light"
          }
        },
        {
          "output_type": "display_data",
          "data": {
            "image/png": "[encoded data removed]",
            "text/plain": [
              "<Figure size 432x288 with 1 Axes>"
            ]
          },
          "metadata": {
            "tags": [],
            "needs_background": "light"
          }
        },
        {
          "output_type": "display_data",
          "data": {
            "image/png": "[encoded data removed]",
            "text/plain": [
              "<Figure size 432x288 with 1 Axes>"
            ]
          },
          "metadata": {
            "tags": [],
            "needs_background": "light"
          }
        }
      ]
    }
  ]
}